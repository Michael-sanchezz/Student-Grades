{
 "cells": [
  {
   "cell_type": "code",
   "execution_count": 90,
   "id": "2a809e32-efc9-477d-b845-aa6888c4cbb9",
   "metadata": {},
   "outputs": [
    {
     "name": "stdout",
     "output_type": "stream",
     "text": [
      "math: 10.5 \n",
      "science: 14.214285714285714 \n",
      "reading: 10.785714285714286 \n",
      "history: 11.428571428571429\n"
     ]
    }
   ],
   "source": [
    "import pandas as pd\n",
    "import scipy\n",
    "import numpy as np\n",
    "\n",
    "people = ([{'name': 'Adam', 'Math': 11, 'Science': 9,'Reading': 16, 'History': 13.5},\n",
    "          {'name': 'Anna', 'Math': 12, 'Science': 11, 'Reading': 8.5, 'History': 10},\n",
    "          {'name': 'James', 'Math': 1, 'Science': 18, 'Reading': 11.5, 'History': 9},\n",
    "           {'name': 'Corey', 'Math': 7, 'Science': 15.5, 'Reading': 11, 'History': 14},\n",
    "            {'name': 'Alisha', 'Math': 9.5, 'Science': 12, 'Reading': 10.5, 'History': 14},\n",
    "            {'name': 'Jodie', 'Math': 15, 'Science': 18.5, 'Reading': 7, 'History': 12},\n",
    "            {'name': 'John', 'Math': 18, 'Science': 15.5, 'Reading': 11, 'History': 7.5}\n",
    "])\n",
    "dict_df= pd.DataFrame(people)\n",
    "#1.\n",
    "mean_math = dict_df[\"Math\"].mean()\n",
    "mean_sci  = dict_df[\"Science\"].mean()\n",
    "mean_read = dict_df[\"Reading\"].mean()\n",
    "mean_Hist  = dict_df[\"History\"].mean()\n",
    "print(f'math: {mean_math} \\nscience: {mean_sci} \\nreading: {mean_read} \\nhistory: {mean_Hist}')\n",
    "# display(dict_df)"
   ]
  },
  {
   "cell_type": "code",
   "execution_count": 62,
   "id": "20e3b6c3-8f1c-4f6c-bf18-5faa2c6d6fb7",
   "metadata": {},
   "outputs": [
    {
     "data": {
      "text/plain": [
       "11.0"
      ]
     },
     "metadata": {},
     "output_type": "display_data"
    }
   ],
   "source": [
    "#2.\n",
    "math_median = dict_df[\"Math\"].median()\n",
    "display(math_median)"
   ]
  },
  {
   "cell_type": "code",
   "execution_count": 59,
   "id": "2beebc40-e754-4db4-b5b4-ca7c921315c3",
   "metadata": {},
   "outputs": [
    {
     "data": {
      "text/plain": [
       "0    14.0\n",
       "Name: History, dtype: float64"
      ]
     },
     "metadata": {},
     "output_type": "display_data"
    }
   ],
   "source": [
    "#3.\n",
    "mode_history = dict_df[\"History\"].mode()\n",
    "display(mode_history)"
   ]
  },
  {
   "cell_type": "code",
   "execution_count": 79,
   "id": "df30efaf-9dc4-4649-99f4-344d0603fe6a",
   "metadata": {},
   "outputs": [
    {
     "data": {
      "text/html": [
       "<div>\n",
       "<style scoped>\n",
       "    .dataframe tbody tr th:only-of-type {\n",
       "        vertical-align: middle;\n",
       "    }\n",
       "\n",
       "    .dataframe tbody tr th {\n",
       "        vertical-align: top;\n",
       "    }\n",
       "\n",
       "    .dataframe thead th {\n",
       "        text-align: right;\n",
       "    }\n",
       "</style>\n",
       "<table border=\"1\" class=\"dataframe\">\n",
       "  <thead>\n",
       "    <tr style=\"text-align: right;\">\n",
       "      <th></th>\n",
       "      <th>Math</th>\n",
       "      <th>Science</th>\n",
       "      <th>History</th>\n",
       "      <th>Reading</th>\n",
       "    </tr>\n",
       "  </thead>\n",
       "  <tbody>\n",
       "    <tr>\n",
       "      <th>Math</th>\n",
       "      <td>1.000000</td>\n",
       "      <td>-0.140006</td>\n",
       "      <td>-0.190252</td>\n",
       "      <td>-0.252590</td>\n",
       "    </tr>\n",
       "    <tr>\n",
       "      <th>Science</th>\n",
       "      <td>-0.140006</td>\n",
       "      <td>1.000000</td>\n",
       "      <td>-0.358688</td>\n",
       "      <td>-0.527606</td>\n",
       "    </tr>\n",
       "    <tr>\n",
       "      <th>History</th>\n",
       "      <td>-0.190252</td>\n",
       "      <td>-0.358688</td>\n",
       "      <td>1.000000</td>\n",
       "      <td>0.206794</td>\n",
       "    </tr>\n",
       "    <tr>\n",
       "      <th>Reading</th>\n",
       "      <td>-0.252590</td>\n",
       "      <td>-0.527606</td>\n",
       "      <td>0.206794</td>\n",
       "      <td>1.000000</td>\n",
       "    </tr>\n",
       "  </tbody>\n",
       "</table>\n",
       "</div>"
      ],
      "text/plain": [
       "             Math   Science   History   Reading\n",
       "Math     1.000000 -0.140006 -0.190252 -0.252590\n",
       "Science -0.140006  1.000000 -0.358688 -0.527606\n",
       "History -0.190252 -0.358688  1.000000  0.206794\n",
       "Reading -0.252590 -0.527606  0.206794  1.000000"
      ]
     },
     "execution_count": 79,
     "metadata": {},
     "output_type": "execute_result"
    }
   ],
   "source": [
    "#Question 2:Given the following grades from Question 1, calculate the correlation between the different subjects.\n",
    "# What two subjects have the strongest correlation?\n",
    "\n",
    "subject = [\"Math\",\"Science\",\"History\", \"Reading\"]\n",
    "# compare = people['Math'].corr(people['History'].corr(people[\"Science\"]))\n",
    "dict_df[subject].corr()"
   ]
  },
  {
   "cell_type": "code",
   "execution_count": 103,
   "id": "a336397f-b555-47f2-b200-e51c58f3b833",
   "metadata": {},
   "outputs": [
    {
     "name": "stdout",
     "output_type": "stream",
     "text": [
      "mean: 59.47826086956522\n",
      "median: 60.0\n",
      "min: 5\n",
      "max: 99\n",
      "range: 94\n",
      "variance: 664.1625708884687\n",
      "standard deviation: 25.771351747404882\n"
     ]
    }
   ],
   "source": [
    "# Question 3:Consider the following numbers representing the grades from the most recent exam in a math class:\n",
    "\n",
    "g = grades = [24, 5, 15, 60, 54, 82, 99, 80, 70, 98, 93, 60, 33, 22, 65, 61, 51, 58, 83, 86, 42, 67, 60]\n",
    "\n",
    "def desc_stats(g):\n",
    "    print(f'mean: {np.mean(grades)}')\n",
    "    print(f'median: {np.median(grades)}')\n",
    "    print(f'min: {np.min(grades)}')\n",
    "    print(f'max: {np.max(grades)}')\n",
    "    print(f'range: {np.ptp(grades)}')\n",
    "    print(f'variance: {np.var(grades)}')\n",
    "    print(f'standard deviation: {np.std(grades)}')\n",
    "\n",
    "desc_stats(g)\n"
   ]
  },
  {
   "cell_type": "code",
   "execution_count": null,
   "id": "a7dd6adc-d4f5-44f3-adcf-a544c68ed773",
   "metadata": {},
   "outputs": [],
   "source": []
  }
 ],
 "metadata": {
  "kernelspec": {
   "display_name": "Python 3 (ipykernel)",
   "language": "python",
   "name": "python3"
  },
  "language_info": {
   "codemirror_mode": {
    "name": "ipython",
    "version": 3
   },
   "file_extension": ".py",
   "mimetype": "text/x-python",
   "name": "python",
   "nbconvert_exporter": "python",
   "pygments_lexer": "ipython3",
   "version": "3.11.5"
  }
 },
 "nbformat": 4,
 "nbformat_minor": 5
}
